{
 "cells": [
  {
   "cell_type": "markdown",
   "id": "7f35c255-155f-4f97-9f4f-76a6fb86998c",
   "metadata": {},
   "source": [
    "<div align='center'><h1>Linkedin Jobs Analysis</h1></div>"
   ]
  },
  {
   "cell_type": "markdown",
   "id": "5a63c02a-9404-4ed0-806c-086aafa0dd3f",
   "metadata": {},
   "source": [
    "Here analysis of jobs posted on social media platform linkedin between March 2023-April 2024 is being carried out"
   ]
  },
  {
   "cell_type": "code",
   "execution_count": 1,
   "id": "31516ab6-204c-4300-b683-dc05c840b7d1",
   "metadata": {},
   "outputs": [],
   "source": [
    "import pandas as pd\n",
    "import numpy as np\n",
    "from matplotlib import pyplot as plt\n",
    "import seaborn as sns\n",
    "import warnings\n",
    "warnings.filterwarnings('ignore')\n",
    "# %matplotlib inline"
   ]
  },
  {
   "cell_type": "code",
   "execution_count": 2,
   "id": "f5e17f61-9648-4b55-ace6-f51e45729f82",
   "metadata": {},
   "outputs": [
    {
     "name": "stdout",
     "output_type": "stream",
     "text": [
      "(123849, 28)\n"
     ]
    }
   ],
   "source": [
    "job_posting = pd.read_csv('postings.csv')\n",
    "job_posting.head()\n",
    "\n",
    "print(job_posting.shape)"
   ]
  },
  {
   "cell_type": "markdown",
   "id": "6762b9ed-aa5e-4f22-8a6e-87b41996c376",
   "metadata": {},
   "source": [
    "Adding more information about jobs from other resources"
   ]
  },
  {
   "cell_type": "code",
   "execution_count": 3,
   "id": "bd303327-b6cb-487a-a9cb-b2040c1eae75",
   "metadata": {},
   "outputs": [],
   "source": [
    "# about company\n",
    "company = pd.read_csv('companies.csv')\n",
    "company.drop(columns= ['address','url'], inplace = True, axis=1)\n",
    "industry = pd.read_csv('company_industries.csv')\n",
    "company = pd.merge(company, industry, on = 'company_id', how ='left')\n",
    "speciality = pd.read_csv('company_specialities.csv')\n",
    "company = pd.merge(company, speciality, on = 'company_id', how = 'left')"
   ]
  },
  {
   "cell_type": "code",
   "execution_count": 4,
   "id": "9cb58781-7f0e-49a1-a0a9-bd87f6f31810",
   "metadata": {},
   "outputs": [],
   "source": [
    "# about job\n",
    "skills  = pd.read_csv('job_skills.csv')\n",
    "skill_map= pd.read_csv('skills.csv')\n",
    "job = pd.merge(job_posting, skills, on ='job_id', how ='left')\n",
    "job = pd.merge(job, skill_map, on='skill_abr', how ='left')\n",
    "job_benifit = pd.read_csv('benefits.csv')\n",
    "job_benifit.rename(columns={'type':'benifit'}, inplace=True)\n",
    "job = pd.merge(job, job_benifit, on='job_id', how='left')"
   ]
  },
  {
   "cell_type": "code",
   "execution_count": 5,
   "id": "ee872d6b-0bd8-483f-89a1-6db8f143ca20",
   "metadata": {},
   "outputs": [],
   "source": [
    "# merging all information in one dataframe\n",
    "df= pd.merge(job, company, on='company_id', how ='left')\n",
    "df.drop_duplicates(subset='job_id', inplace=True)"
   ]
  },
  {
   "cell_type": "code",
   "execution_count": 6,
   "id": "47e4860e-ae2a-487c-934c-f8cc98fbcba2",
   "metadata": {},
   "outputs": [
    {
     "data": {
      "text/plain": [
       "Index(['job_id', 'company_name', 'title', 'description_x', 'max_salary',\n",
       "       'pay_period', 'location', 'company_id', 'views', 'med_salary',\n",
       "       'min_salary', 'formatted_work_type', 'applies', 'original_listed_time',\n",
       "       'remote_allowed', 'job_posting_url', 'application_url',\n",
       "       'application_type', 'expiry', 'closed_time',\n",
       "       'formatted_experience_level', 'skills_desc', 'listed_time',\n",
       "       'posting_domain', 'sponsored', 'work_type', 'currency',\n",
       "       'compensation_type', 'skill_abr', 'skill_name', 'inferred', 'benifit',\n",
       "       'name', 'description_y', 'company_size', 'state', 'country', 'city',\n",
       "       'zip_code', 'industry', 'speciality'],\n",
       "      dtype='object')"
      ]
     },
     "execution_count": 6,
     "metadata": {},
     "output_type": "execute_result"
    }
   ],
   "source": [
    "df.columns"
   ]
  },
  {
   "cell_type": "code",
   "execution_count": 7,
   "id": "ea91eb0f-15d8-4ccb-b472-4a26b31820f8",
   "metadata": {},
   "outputs": [],
   "source": [
    "df.drop(columns=['description_x','skill_abr','name','description_y', 'job_posting_url', 'application_url','posting_domain', 'skills_desc','inferred'], axis=1, inplace=True)"
   ]
  },
  {
   "cell_type": "code",
   "execution_count": 8,
   "id": "babc2a50-012d-4fda-9380-9d92ad173947",
   "metadata": {},
   "outputs": [
    {
     "data": {
      "text/plain": [
       "(123849, 32)"
      ]
     },
     "execution_count": 8,
     "metadata": {},
     "output_type": "execute_result"
    }
   ],
   "source": [
    "df.shape"
   ]
  },
  {
   "cell_type": "markdown",
   "id": "a4cb454b-634d-43bb-af58-3d99084d8648",
   "metadata": {},
   "source": [
    "## Data Preprocessing"
   ]
  },
  {
   "cell_type": "markdown",
   "id": "cbae934b-ebc9-400a-a5fd-cac4d245f830",
   "metadata": {},
   "source": [
    "#### Handeling Missing Values"
   ]
  },
  {
   "cell_type": "code",
   "execution_count": 9,
   "id": "5b292407-cfff-46cc-82d0-386a49427edc",
   "metadata": {},
   "outputs": [
    {
     "data": {
      "text/plain": [
       "job_id                             0\n",
       "company_name                    1719\n",
       "title                              0\n",
       "max_salary                     94056\n",
       "pay_period                     87776\n",
       "location                           0\n",
       "company_id                      1717\n",
       "views                           1689\n",
       "med_salary                    117569\n",
       "min_salary                     94056\n",
       "formatted_work_type                0\n",
       "applies                       100529\n",
       "original_listed_time               0\n",
       "remote_allowed                108603\n",
       "application_type                   0\n",
       "expiry                             0\n",
       "closed_time                   122776\n",
       "formatted_experience_level     29409\n",
       "listed_time                        0\n",
       "sponsored                          0\n",
       "work_type                          0\n",
       "currency                       87776\n",
       "compensation_type              87776\n",
       "skill_name                      1753\n",
       "benifit                        95114\n",
       "company_size                    6707\n",
       "state                           1757\n",
       "country                         1718\n",
       "city                            1720\n",
       "zip_code                        1983\n",
       "industry                        1875\n",
       "speciality                     27843\n",
       "dtype: int64"
      ]
     },
     "execution_count": 9,
     "metadata": {},
     "output_type": "execute_result"
    }
   ],
   "source": [
    "df.isna().sum()"
   ]
  },
  {
   "cell_type": "code",
   "execution_count": 10,
   "id": "5bc7cbad-1576-461f-b7a5-39dfba0ec05d",
   "metadata": {},
   "outputs": [],
   "source": [
    "df.dropna(subset='company_name', inplace= True)\n",
    "df.dropna(subset = ['zip_code','city','industry','state','skill_name'], inplace=True)"
   ]
  },
  {
   "cell_type": "code",
   "execution_count": 11,
   "id": "fc336089-917b-4ef6-a67c-89845fbd4af3",
   "metadata": {},
   "outputs": [],
   "source": [
    "# dropping closed_time column because it is almost empty\n",
    "df.drop('closed_time', axis=1, inplace=True)"
   ]
  },
  {
   "cell_type": "code",
   "execution_count": 12,
   "id": "6cbf5903-28bd-4d2e-9335-81263d9428f5",
   "metadata": {},
   "outputs": [],
   "source": [
    "# significant entries of salary is missing. Replacing with 0 : Not Mentioned\n",
    "salaries = ['max_salary', 'med_salary', 'min_salary']\n",
    "for i in salaries:\n",
    "    df[i] = df[i].replace(np.nan, 0)"
   ]
  },
  {
   "cell_type": "code",
   "execution_count": 13,
   "id": "9bb2d2d6-b5bc-4ba9-a6ff-8fb1b7148997",
   "metadata": {},
   "outputs": [],
   "source": [
    "unknown_or_zero = ['views','applies','remote_allowed']\n",
    "for i in unknown_or_zero:\n",
    "    df[i] = df[i].replace(np.nan, 0)  "
   ]
  },
  {
   "cell_type": "code",
   "execution_count": 14,
   "id": "c80e9191-da55-4d80-b9ba-13dbfe692e40",
   "metadata": {},
   "outputs": [],
   "source": [
    "frequent_company_size = df['company_size'].value_counts().idxmax()\n",
    "df['company_size'] = df['company_size'].replace(np.nan, frequent_company_size)"
   ]
  },
  {
   "cell_type": "markdown",
   "id": "7b76a0a7-cee9-4acf-a2ae-ceb13588a959",
   "metadata": {},
   "source": [
    "Several categorical columns have more than 50% missing values. While we cannot drop those rows, the columns hold importance as well.   \n",
    "According to domain and context they may be missing because they may not have been mentioned."
   ]
  },
  {
   "cell_type": "code",
   "execution_count": 15,
   "id": "3175b72e-ddf7-45b6-b075-d5d30020e12d",
   "metadata": {},
   "outputs": [],
   "source": [
    "unknown_cate = ['pay_period','formatted_experience_level','compensation_type','benifit','currency','speciality']\n",
    "for i in unknown_cate:\n",
    "    df[i].replace(np.nan, \"unknown\",inplace =True )"
   ]
  },
  {
   "cell_type": "code",
   "execution_count": 16,
   "id": "7aa92fd2-db0f-4235-bc50-ceee372fbd66",
   "metadata": {},
   "outputs": [],
   "source": [
    "df= df[df['city']!='0']\n",
    "df= df[df['country']!='0']"
   ]
  },
  {
   "cell_type": "code",
   "execution_count": 17,
   "id": "82f9a27e-7639-4a62-a34a-852c0af96135",
   "metadata": {},
   "outputs": [
    {
     "data": {
      "text/html": [
       "<div>\n",
       "<style scoped>\n",
       "    .dataframe tbody tr th:only-of-type {\n",
       "        vertical-align: middle;\n",
       "    }\n",
       "\n",
       "    .dataframe tbody tr th {\n",
       "        vertical-align: top;\n",
       "    }\n",
       "\n",
       "    .dataframe thead th {\n",
       "        text-align: right;\n",
       "    }\n",
       "</style>\n",
       "<table border=\"1\" class=\"dataframe\">\n",
       "  <thead>\n",
       "    <tr style=\"text-align: right;\">\n",
       "      <th></th>\n",
       "      <th>job_id</th>\n",
       "      <th>company_name</th>\n",
       "      <th>title</th>\n",
       "      <th>max_salary</th>\n",
       "      <th>pay_period</th>\n",
       "      <th>location</th>\n",
       "      <th>company_id</th>\n",
       "      <th>views</th>\n",
       "      <th>med_salary</th>\n",
       "      <th>min_salary</th>\n",
       "      <th>...</th>\n",
       "      <th>compensation_type</th>\n",
       "      <th>skill_name</th>\n",
       "      <th>benifit</th>\n",
       "      <th>company_size</th>\n",
       "      <th>state</th>\n",
       "      <th>country</th>\n",
       "      <th>city</th>\n",
       "      <th>zip_code</th>\n",
       "      <th>industry</th>\n",
       "      <th>speciality</th>\n",
       "    </tr>\n",
       "  </thead>\n",
       "  <tbody>\n",
       "  </tbody>\n",
       "</table>\n",
       "<p>0 rows × 31 columns</p>\n",
       "</div>"
      ],
      "text/plain": [
       "Empty DataFrame\n",
       "Columns: [job_id, company_name, title, max_salary, pay_period, location, company_id, views, med_salary, min_salary, formatted_work_type, applies, original_listed_time, remote_allowed, application_type, expiry, formatted_experience_level, listed_time, sponsored, work_type, currency, compensation_type, skill_name, benifit, company_size, state, country, city, zip_code, industry, speciality]\n",
       "Index: []\n",
       "\n",
       "[0 rows x 31 columns]"
      ]
     },
     "execution_count": 17,
     "metadata": {},
     "output_type": "execute_result"
    }
   ],
   "source": [
    "df[df.duplicated()]"
   ]
  },
  {
   "cell_type": "markdown",
   "id": "25d01429-ed0f-45b6-9ea3-46d3b980ad2a",
   "metadata": {},
   "source": [
    "#### Ensuring correct data type"
   ]
  },
  {
   "cell_type": "code",
   "execution_count": 18,
   "id": "de273a43-c200-4d5d-a9e0-a5c26e1b1553",
   "metadata": {},
   "outputs": [
    {
     "data": {
      "text/plain": [
       "job_id                          int64\n",
       "company_name                   object\n",
       "title                          object\n",
       "max_salary                    float64\n",
       "pay_period                     object\n",
       "location                       object\n",
       "company_id                    float64\n",
       "views                         float64\n",
       "med_salary                    float64\n",
       "min_salary                    float64\n",
       "formatted_work_type            object\n",
       "applies                       float64\n",
       "original_listed_time          float64\n",
       "remote_allowed                float64\n",
       "application_type               object\n",
       "expiry                        float64\n",
       "formatted_experience_level     object\n",
       "listed_time                   float64\n",
       "sponsored                       int64\n",
       "work_type                      object\n",
       "currency                       object\n",
       "compensation_type              object\n",
       "skill_name                     object\n",
       "benifit                        object\n",
       "company_size                  float64\n",
       "state                          object\n",
       "country                        object\n",
       "city                           object\n",
       "zip_code                       object\n",
       "industry                       object\n",
       "speciality                     object\n",
       "dtype: object"
      ]
     },
     "execution_count": 18,
     "metadata": {},
     "output_type": "execute_result"
    }
   ],
   "source": [
    "df.dtypes"
   ]
  },
  {
   "cell_type": "code",
   "execution_count": 19,
   "id": "67bde4ea-0330-49cd-8190-a5346a493913",
   "metadata": {},
   "outputs": [],
   "source": [
    "column_float_to_int = ['max_salary','company_id','views','med_salary','min_salary','applies','remote_allowed','company_size']\n",
    "for i in column_float_to_int:\n",
    "    df[i] = df[i].astype('int')"
   ]
  },
  {
   "cell_type": "code",
   "execution_count": 20,
   "id": "0f75ccb0-38df-42f0-803a-415cca175dd4",
   "metadata": {},
   "outputs": [],
   "source": [
    "df['zip_code'] = pd.to_numeric(df['zip_code'], errors='coerce')\n",
    "df.dropna(subset='zip_code',inplace=True)\n",
    "df['zip_code'] = df['zip_code'].astype('int')"
   ]
  },
  {
   "cell_type": "code",
   "execution_count": 21,
   "id": "84b54157-db06-40c7-82c9-930a40891f54",
   "metadata": {},
   "outputs": [],
   "source": [
    "df['original_listed_time'] = pd.to_datetime(df['original_listed_time'], unit='ms')\n",
    "df['original_listed_time'] = df['original_listed_time'].dt.date\n",
    "\n",
    "df['listed_time'] = pd.to_datetime(df['listed_time'], unit='ms')\n",
    "df['listed_time'] = df['listed_time'].dt.date"
   ]
  },
  {
   "cell_type": "code",
   "execution_count": 22,
   "id": "215a0dc5-81fb-4bec-a536-c67df4848e47",
   "metadata": {},
   "outputs": [],
   "source": [
    "df['listed_time']= pd.to_datetime(df['listed_time'], format='%m/%d/%y')\n",
    "df['original_listed_time']= pd.to_datetime(df['original_listed_time'], format='%m/%d/%y')"
   ]
  },
  {
   "cell_type": "code",
   "execution_count": 23,
   "id": "9f685d4a-6086-4df3-a61d-437188482de4",
   "metadata": {},
   "outputs": [
    {
     "data": {
      "text/html": [
       "<div>\n",
       "<style scoped>\n",
       "    .dataframe tbody tr th:only-of-type {\n",
       "        vertical-align: middle;\n",
       "    }\n",
       "\n",
       "    .dataframe tbody tr th {\n",
       "        vertical-align: top;\n",
       "    }\n",
       "\n",
       "    .dataframe thead th {\n",
       "        text-align: right;\n",
       "    }\n",
       "</style>\n",
       "<table border=\"1\" class=\"dataframe\">\n",
       "  <thead>\n",
       "    <tr style=\"text-align: right;\">\n",
       "      <th></th>\n",
       "      <th>job_id</th>\n",
       "      <th>max_salary</th>\n",
       "      <th>company_id</th>\n",
       "      <th>views</th>\n",
       "      <th>med_salary</th>\n",
       "      <th>min_salary</th>\n",
       "      <th>applies</th>\n",
       "      <th>remote_allowed</th>\n",
       "      <th>expiry</th>\n",
       "      <th>sponsored</th>\n",
       "      <th>company_size</th>\n",
       "      <th>zip_code</th>\n",
       "    </tr>\n",
       "  </thead>\n",
       "  <tbody>\n",
       "    <tr>\n",
       "      <th>count</th>\n",
       "      <td>1.096160e+05</td>\n",
       "      <td>1.096160e+05</td>\n",
       "      <td>1.096160e+05</td>\n",
       "      <td>109616.000000</td>\n",
       "      <td>109616.00000</td>\n",
       "      <td>1.096160e+05</td>\n",
       "      <td>109616.000000</td>\n",
       "      <td>109616.000000</td>\n",
       "      <td>1.096160e+05</td>\n",
       "      <td>109616.0</td>\n",
       "      <td>109616.000000</td>\n",
       "      <td>1.096160e+05</td>\n",
       "    </tr>\n",
       "    <tr>\n",
       "      <th>mean</th>\n",
       "      <td>3.897341e+09</td>\n",
       "      <td>2.176539e+04</td>\n",
       "      <td>1.130219e+07</td>\n",
       "      <td>14.078018</td>\n",
       "      <td>1122.14497</td>\n",
       "      <td>1.534970e+04</td>\n",
       "      <td>1.938449</td>\n",
       "      <td>0.117145</td>\n",
       "      <td>1.716126e+12</td>\n",
       "      <td>0.0</td>\n",
       "      <td>5.029321</td>\n",
       "      <td>4.578024e+05</td>\n",
       "    </tr>\n",
       "    <tr>\n",
       "      <th>std</th>\n",
       "      <td>6.691470e+07</td>\n",
       "      <td>3.670971e+05</td>\n",
       "      <td>2.405357e+07</td>\n",
       "      <td>79.433212</td>\n",
       "      <td>12694.31287</td>\n",
       "      <td>2.597230e+05</td>\n",
       "      <td>13.225740</td>\n",
       "      <td>0.321595</td>\n",
       "      <td>2.078710e+09</td>\n",
       "      <td>0.0</td>\n",
       "      <td>2.023706</td>\n",
       "      <td>4.384263e+07</td>\n",
       "    </tr>\n",
       "    <tr>\n",
       "      <th>min</th>\n",
       "      <td>9.217160e+05</td>\n",
       "      <td>0.000000e+00</td>\n",
       "      <td>1.009000e+03</td>\n",
       "      <td>0.000000</td>\n",
       "      <td>0.00000</td>\n",
       "      <td>0.000000e+00</td>\n",
       "      <td>0.000000</td>\n",
       "      <td>0.000000</td>\n",
       "      <td>1.712903e+12</td>\n",
       "      <td>0.0</td>\n",
       "      <td>1.000000</td>\n",
       "      <td>0.000000e+00</td>\n",
       "    </tr>\n",
       "    <tr>\n",
       "      <th>25%</th>\n",
       "      <td>3.894602e+09</td>\n",
       "      <td>0.000000e+00</td>\n",
       "      <td>1.452800e+04</td>\n",
       "      <td>3.000000</td>\n",
       "      <td>0.00000</td>\n",
       "      <td>0.000000e+00</td>\n",
       "      <td>0.000000</td>\n",
       "      <td>0.000000</td>\n",
       "      <td>1.715481e+12</td>\n",
       "      <td>0.0</td>\n",
       "      <td>3.000000</td>\n",
       "      <td>1.222900e+04</td>\n",
       "    </tr>\n",
       "    <tr>\n",
       "      <th>50%</th>\n",
       "      <td>3.902301e+09</td>\n",
       "      <td>0.000000e+00</td>\n",
       "      <td>2.155610e+05</td>\n",
       "      <td>4.000000</td>\n",
       "      <td>0.00000</td>\n",
       "      <td>0.000000e+00</td>\n",
       "      <td>0.000000</td>\n",
       "      <td>0.000000</td>\n",
       "      <td>1.716042e+12</td>\n",
       "      <td>0.0</td>\n",
       "      <td>5.000000</td>\n",
       "      <td>3.425900e+04</td>\n",
       "    </tr>\n",
       "    <tr>\n",
       "      <th>75%</th>\n",
       "      <td>3.904707e+09</td>\n",
       "      <td>0.000000e+00</td>\n",
       "      <td>6.821818e+06</td>\n",
       "      <td>7.000000</td>\n",
       "      <td>0.00000</td>\n",
       "      <td>0.000000e+00</td>\n",
       "      <td>0.000000</td>\n",
       "      <td>0.000000</td>\n",
       "      <td>1.716086e+12</td>\n",
       "      <td>0.0</td>\n",
       "      <td>7.000000</td>\n",
       "      <td>7.520200e+04</td>\n",
       "    </tr>\n",
       "    <tr>\n",
       "      <th>max</th>\n",
       "      <td>3.906267e+09</td>\n",
       "      <td>1.200000e+08</td>\n",
       "      <td>1.034689e+08</td>\n",
       "      <td>9975.000000</td>\n",
       "      <td>750000.00000</td>\n",
       "      <td>8.500000e+07</td>\n",
       "      <td>967.000000</td>\n",
       "      <td>1.000000</td>\n",
       "      <td>1.729125e+12</td>\n",
       "      <td>0.0</td>\n",
       "      <td>7.000000</td>\n",
       "      <td>4.815048e+09</td>\n",
       "    </tr>\n",
       "  </tbody>\n",
       "</table>\n",
       "</div>"
      ],
      "text/plain": [
       "             job_id    max_salary    company_id          views    med_salary  \\\n",
       "count  1.096160e+05  1.096160e+05  1.096160e+05  109616.000000  109616.00000   \n",
       "mean   3.897341e+09  2.176539e+04  1.130219e+07      14.078018    1122.14497   \n",
       "std    6.691470e+07  3.670971e+05  2.405357e+07      79.433212   12694.31287   \n",
       "min    9.217160e+05  0.000000e+00  1.009000e+03       0.000000       0.00000   \n",
       "25%    3.894602e+09  0.000000e+00  1.452800e+04       3.000000       0.00000   \n",
       "50%    3.902301e+09  0.000000e+00  2.155610e+05       4.000000       0.00000   \n",
       "75%    3.904707e+09  0.000000e+00  6.821818e+06       7.000000       0.00000   \n",
       "max    3.906267e+09  1.200000e+08  1.034689e+08    9975.000000  750000.00000   \n",
       "\n",
       "         min_salary        applies  remote_allowed        expiry  sponsored  \\\n",
       "count  1.096160e+05  109616.000000   109616.000000  1.096160e+05   109616.0   \n",
       "mean   1.534970e+04       1.938449        0.117145  1.716126e+12        0.0   \n",
       "std    2.597230e+05      13.225740        0.321595  2.078710e+09        0.0   \n",
       "min    0.000000e+00       0.000000        0.000000  1.712903e+12        0.0   \n",
       "25%    0.000000e+00       0.000000        0.000000  1.715481e+12        0.0   \n",
       "50%    0.000000e+00       0.000000        0.000000  1.716042e+12        0.0   \n",
       "75%    0.000000e+00       0.000000        0.000000  1.716086e+12        0.0   \n",
       "max    8.500000e+07     967.000000        1.000000  1.729125e+12        0.0   \n",
       "\n",
       "        company_size      zip_code  \n",
       "count  109616.000000  1.096160e+05  \n",
       "mean        5.029321  4.578024e+05  \n",
       "std         2.023706  4.384263e+07  \n",
       "min         1.000000  0.000000e+00  \n",
       "25%         3.000000  1.222900e+04  \n",
       "50%         5.000000  3.425900e+04  \n",
       "75%         7.000000  7.520200e+04  \n",
       "max         7.000000  4.815048e+09  "
      ]
     },
     "execution_count": 23,
     "metadata": {},
     "output_type": "execute_result"
    }
   ],
   "source": [
    "df.describe(include='number')"
   ]
  },
  {
   "cell_type": "markdown",
   "id": "f39f0e3d-76f7-49bb-8681-ad6b651d415f",
   "metadata": {},
   "source": [
    "#### Handeling Outliers"
   ]
  },
  {
   "cell_type": "code",
   "execution_count": 24,
   "id": "19970e38-a214-460c-b9d0-edfc2acdc841",
   "metadata": {},
   "outputs": [
    {
     "data": {
      "image/png": "[encoded data removed]",
      "text/plain": [
       "<Figure size 400x400 with 1 Axes>"
      ]
     },
     "metadata": {},
     "output_type": "display_data"
    }
   ],
   "source": [
    "plt.figure(figsize=(4,4))\n",
    "plt.boxplot(df['max_salary'])\n",
    "plt.show()"
   ]
  },
  {
   "cell_type": "code",
   "execution_count": 25,
   "id": "422f9f4d-f910-4d21-92cd-d0ff726c8365",
   "metadata": {},
   "outputs": [
    {
     "name": "stdout",
     "output_type": "stream",
     "text": [
      "120000000\n",
      "1663682    USD\n",
      "Name: currency, dtype: object\n"
     ]
    }
   ],
   "source": [
    "print(df['max_salary'].max())\n",
    "print(df[df['max_salary']==120000000]['currency'])"
   ]
  },
  {
   "cell_type": "code",
   "execution_count": 26,
   "id": "80e06ecf-9ee1-4160-bdca-8d94eedba593",
   "metadata": {},
   "outputs": [],
   "source": [
    "df= df[df['max_salary']!=120000000]"
   ]
  },
  {
   "cell_type": "code",
   "execution_count": 27,
   "id": "d8f75bc0-fb87-4318-a6bf-746eb307196d",
   "metadata": {},
   "outputs": [
    {
     "data": {
      "image/png": "[encoded data removed]",
      "text/plain": [
       "<Figure size 300x300 with 1 Axes>"
      ]
     },
     "metadata": {},
     "output_type": "display_data"
    }
   ],
   "source": [
    "plt.figure(figsize=(3,3))\n",
    "plt.hist(df['min_salary'], edgecolor='black')\n",
    "plt.show()"
   ]
  },
  {
   "cell_type": "code",
   "execution_count": 28,
   "id": "e7d92942-d15f-4979-b32d-3fe10fac04ae",
   "metadata": {},
   "outputs": [
    {
     "data": {
      "text/plain": [
       "array([2, 1, 7, 5, 4, 6, 3])"
      ]
     },
     "execution_count": 28,
     "metadata": {},
     "output_type": "execute_result"
    }
   ],
   "source": [
    "df['company_size'].unique()"
   ]
  },
  {
   "cell_type": "code",
   "execution_count": 29,
   "id": "3e62fc6f-3c36-4d1f-b54c-cd1a0f9f79af",
   "metadata": {},
   "outputs": [
    {
     "data": {
      "text/html": [
       "<div>\n",
       "<style scoped>\n",
       "    .dataframe tbody tr th:only-of-type {\n",
       "        vertical-align: middle;\n",
       "    }\n",
       "\n",
       "    .dataframe tbody tr th {\n",
       "        vertical-align: top;\n",
       "    }\n",
       "\n",
       "    .dataframe thead th {\n",
       "        text-align: right;\n",
       "    }\n",
       "</style>\n",
       "<table border=\"1\" class=\"dataframe\">\n",
       "  <thead>\n",
       "    <tr style=\"text-align: right;\">\n",
       "      <th></th>\n",
       "      <th>company_name</th>\n",
       "      <th>title</th>\n",
       "      <th>pay_period</th>\n",
       "      <th>location</th>\n",
       "      <th>formatted_work_type</th>\n",
       "      <th>original_listed_time</th>\n",
       "      <th>application_type</th>\n",
       "      <th>formatted_experience_level</th>\n",
       "      <th>listed_time</th>\n",
       "      <th>work_type</th>\n",
       "      <th>currency</th>\n",
       "      <th>compensation_type</th>\n",
       "      <th>skill_name</th>\n",
       "      <th>benifit</th>\n",
       "      <th>state</th>\n",
       "      <th>country</th>\n",
       "      <th>city</th>\n",
       "      <th>industry</th>\n",
       "      <th>speciality</th>\n",
       "    </tr>\n",
       "  </thead>\n",
       "  <tbody>\n",
       "    <tr>\n",
       "      <th>count</th>\n",
       "      <td>109615</td>\n",
       "      <td>109615</td>\n",
       "      <td>109615</td>\n",
       "      <td>109615</td>\n",
       "      <td>109615</td>\n",
       "      <td>109615</td>\n",
       "      <td>109615</td>\n",
       "      <td>109615</td>\n",
       "      <td>109615</td>\n",
       "      <td>109615</td>\n",
       "      <td>109615</td>\n",
       "      <td>109615</td>\n",
       "      <td>109615</td>\n",
       "      <td>109615</td>\n",
       "      <td>109615</td>\n",
       "      <td>109615</td>\n",
       "      <td>109615</td>\n",
       "      <td>109615</td>\n",
       "      <td>109615</td>\n",
       "    </tr>\n",
       "    <tr>\n",
       "      <th>unique</th>\n",
       "      <td>21066</td>\n",
       "      <td>64819</td>\n",
       "      <td>6</td>\n",
       "      <td>8065</td>\n",
       "      <td>7</td>\n",
       "      <td>NaN</td>\n",
       "      <td>4</td>\n",
       "      <td>7</td>\n",
       "      <td>NaN</td>\n",
       "      <td>7</td>\n",
       "      <td>5</td>\n",
       "      <td>2</td>\n",
       "      <td>35</td>\n",
       "      <td>13</td>\n",
       "      <td>616</td>\n",
       "      <td>73</td>\n",
       "      <td>3673</td>\n",
       "      <td>143</td>\n",
       "      <td>9867</td>\n",
       "    </tr>\n",
       "    <tr>\n",
       "      <th>top</th>\n",
       "      <td>Liberty Healthcare and Rehabilitation Services</td>\n",
       "      <td>Sales Manager</td>\n",
       "      <td>unknown</td>\n",
       "      <td>United States</td>\n",
       "      <td>Full-time</td>\n",
       "      <td>NaN</td>\n",
       "      <td>OffsiteApply</td>\n",
       "      <td>Mid-Senior level</td>\n",
       "      <td>NaN</td>\n",
       "      <td>FULL_TIME</td>\n",
       "      <td>unknown</td>\n",
       "      <td>unknown</td>\n",
       "      <td>Health Care Provider</td>\n",
       "      <td>unknown</td>\n",
       "      <td>California</td>\n",
       "      <td>US</td>\n",
       "      <td>New York</td>\n",
       "      <td>Staffing and Recruiting</td>\n",
       "      <td>unknown</td>\n",
       "    </tr>\n",
       "    <tr>\n",
       "      <th>freq</th>\n",
       "      <td>1108</td>\n",
       "      <td>661</td>\n",
       "      <td>77722</td>\n",
       "      <td>6666</td>\n",
       "      <td>87577</td>\n",
       "      <td>NaN</td>\n",
       "      <td>76650</td>\n",
       "      <td>37380</td>\n",
       "      <td>NaN</td>\n",
       "      <td>87577</td>\n",
       "      <td>77722</td>\n",
       "      <td>77722</td>\n",
       "      <td>15506</td>\n",
       "      <td>83966</td>\n",
       "      <td>6702</td>\n",
       "      <td>105174</td>\n",
       "      <td>6956</td>\n",
       "      <td>17174</td>\n",
       "      <td>22128</td>\n",
       "    </tr>\n",
       "    <tr>\n",
       "      <th>mean</th>\n",
       "      <td>NaN</td>\n",
       "      <td>NaN</td>\n",
       "      <td>NaN</td>\n",
       "      <td>NaN</td>\n",
       "      <td>NaN</td>\n",
       "      <td>2024-04-14 15:50:36.690234368</td>\n",
       "      <td>NaN</td>\n",
       "      <td>NaN</td>\n",
       "      <td>2024-04-15 03:16:04.083382784</td>\n",
       "      <td>NaN</td>\n",
       "      <td>NaN</td>\n",
       "      <td>NaN</td>\n",
       "      <td>NaN</td>\n",
       "      <td>NaN</td>\n",
       "      <td>NaN</td>\n",
       "      <td>NaN</td>\n",
       "      <td>NaN</td>\n",
       "      <td>NaN</td>\n",
       "      <td>NaN</td>\n",
       "    </tr>\n",
       "    <tr>\n",
       "      <th>min</th>\n",
       "      <td>NaN</td>\n",
       "      <td>NaN</td>\n",
       "      <td>NaN</td>\n",
       "      <td>NaN</td>\n",
       "      <td>NaN</td>\n",
       "      <td>2023-12-05 00:00:00</td>\n",
       "      <td>NaN</td>\n",
       "      <td>NaN</td>\n",
       "      <td>2024-03-24 00:00:00</td>\n",
       "      <td>NaN</td>\n",
       "      <td>NaN</td>\n",
       "      <td>NaN</td>\n",
       "      <td>NaN</td>\n",
       "      <td>NaN</td>\n",
       "      <td>NaN</td>\n",
       "      <td>NaN</td>\n",
       "      <td>NaN</td>\n",
       "      <td>NaN</td>\n",
       "      <td>NaN</td>\n",
       "    </tr>\n",
       "    <tr>\n",
       "      <th>25%</th>\n",
       "      <td>NaN</td>\n",
       "      <td>NaN</td>\n",
       "      <td>NaN</td>\n",
       "      <td>NaN</td>\n",
       "      <td>NaN</td>\n",
       "      <td>2024-04-11 00:00:00</td>\n",
       "      <td>NaN</td>\n",
       "      <td>NaN</td>\n",
       "      <td>2024-04-12 00:00:00</td>\n",
       "      <td>NaN</td>\n",
       "      <td>NaN</td>\n",
       "      <td>NaN</td>\n",
       "      <td>NaN</td>\n",
       "      <td>NaN</td>\n",
       "      <td>NaN</td>\n",
       "      <td>NaN</td>\n",
       "      <td>NaN</td>\n",
       "      <td>NaN</td>\n",
       "      <td>NaN</td>\n",
       "    </tr>\n",
       "    <tr>\n",
       "      <th>50%</th>\n",
       "      <td>NaN</td>\n",
       "      <td>NaN</td>\n",
       "      <td>NaN</td>\n",
       "      <td>NaN</td>\n",
       "      <td>NaN</td>\n",
       "      <td>2024-04-17 00:00:00</td>\n",
       "      <td>NaN</td>\n",
       "      <td>NaN</td>\n",
       "      <td>2024-04-18 00:00:00</td>\n",
       "      <td>NaN</td>\n",
       "      <td>NaN</td>\n",
       "      <td>NaN</td>\n",
       "      <td>NaN</td>\n",
       "      <td>NaN</td>\n",
       "      <td>NaN</td>\n",
       "      <td>NaN</td>\n",
       "      <td>NaN</td>\n",
       "      <td>NaN</td>\n",
       "      <td>NaN</td>\n",
       "    </tr>\n",
       "    <tr>\n",
       "      <th>75%</th>\n",
       "      <td>NaN</td>\n",
       "      <td>NaN</td>\n",
       "      <td>NaN</td>\n",
       "      <td>NaN</td>\n",
       "      <td>NaN</td>\n",
       "      <td>2024-04-18 00:00:00</td>\n",
       "      <td>NaN</td>\n",
       "      <td>NaN</td>\n",
       "      <td>2024-04-18 00:00:00</td>\n",
       "      <td>NaN</td>\n",
       "      <td>NaN</td>\n",
       "      <td>NaN</td>\n",
       "      <td>NaN</td>\n",
       "      <td>NaN</td>\n",
       "      <td>NaN</td>\n",
       "      <td>NaN</td>\n",
       "      <td>NaN</td>\n",
       "      <td>NaN</td>\n",
       "      <td>NaN</td>\n",
       "    </tr>\n",
       "    <tr>\n",
       "      <th>max</th>\n",
       "      <td>NaN</td>\n",
       "      <td>NaN</td>\n",
       "      <td>NaN</td>\n",
       "      <td>NaN</td>\n",
       "      <td>NaN</td>\n",
       "      <td>2024-04-20 00:00:00</td>\n",
       "      <td>NaN</td>\n",
       "      <td>NaN</td>\n",
       "      <td>2024-04-20 00:00:00</td>\n",
       "      <td>NaN</td>\n",
       "      <td>NaN</td>\n",
       "      <td>NaN</td>\n",
       "      <td>NaN</td>\n",
       "      <td>NaN</td>\n",
       "      <td>NaN</td>\n",
       "      <td>NaN</td>\n",
       "      <td>NaN</td>\n",
       "      <td>NaN</td>\n",
       "      <td>NaN</td>\n",
       "    </tr>\n",
       "  </tbody>\n",
       "</table>\n",
       "</div>"
      ],
      "text/plain": [
       "                                          company_name          title  \\\n",
       "count                                           109615         109615   \n",
       "unique                                           21066          64819   \n",
       "top     Liberty Healthcare and Rehabilitation Services  Sales Manager   \n",
       "freq                                              1108            661   \n",
       "mean                                               NaN            NaN   \n",
       "min                                                NaN            NaN   \n",
       "25%                                                NaN            NaN   \n",
       "50%                                                NaN            NaN   \n",
       "75%                                                NaN            NaN   \n",
       "max                                                NaN            NaN   \n",
       "\n",
       "       pay_period       location formatted_work_type  \\\n",
       "count      109615         109615              109615   \n",
       "unique          6           8065                   7   \n",
       "top       unknown  United States           Full-time   \n",
       "freq        77722           6666               87577   \n",
       "mean          NaN            NaN                 NaN   \n",
       "min           NaN            NaN                 NaN   \n",
       "25%           NaN            NaN                 NaN   \n",
       "50%           NaN            NaN                 NaN   \n",
       "75%           NaN            NaN                 NaN   \n",
       "max           NaN            NaN                 NaN   \n",
       "\n",
       "                 original_listed_time application_type  \\\n",
       "count                          109615           109615   \n",
       "unique                            NaN                4   \n",
       "top                               NaN     OffsiteApply   \n",
       "freq                              NaN            76650   \n",
       "mean    2024-04-14 15:50:36.690234368              NaN   \n",
       "min               2023-12-05 00:00:00              NaN   \n",
       "25%               2024-04-11 00:00:00              NaN   \n",
       "50%               2024-04-17 00:00:00              NaN   \n",
       "75%               2024-04-18 00:00:00              NaN   \n",
       "max               2024-04-20 00:00:00              NaN   \n",
       "\n",
       "       formatted_experience_level                    listed_time  work_type  \\\n",
       "count                      109615                         109615     109615   \n",
       "unique                          7                            NaN          7   \n",
       "top              Mid-Senior level                            NaN  FULL_TIME   \n",
       "freq                        37380                            NaN      87577   \n",
       "mean                          NaN  2024-04-15 03:16:04.083382784        NaN   \n",
       "min                           NaN            2024-03-24 00:00:00        NaN   \n",
       "25%                           NaN            2024-04-12 00:00:00        NaN   \n",
       "50%                           NaN            2024-04-18 00:00:00        NaN   \n",
       "75%                           NaN            2024-04-18 00:00:00        NaN   \n",
       "max                           NaN            2024-04-20 00:00:00        NaN   \n",
       "\n",
       "       currency compensation_type            skill_name  benifit       state  \\\n",
       "count    109615            109615                109615   109615      109615   \n",
       "unique        5                 2                    35       13         616   \n",
       "top     unknown           unknown  Health Care Provider  unknown  California   \n",
       "freq      77722             77722                 15506    83966        6702   \n",
       "mean        NaN               NaN                   NaN      NaN         NaN   \n",
       "min         NaN               NaN                   NaN      NaN         NaN   \n",
       "25%         NaN               NaN                   NaN      NaN         NaN   \n",
       "50%         NaN               NaN                   NaN      NaN         NaN   \n",
       "75%         NaN               NaN                   NaN      NaN         NaN   \n",
       "max         NaN               NaN                   NaN      NaN         NaN   \n",
       "\n",
       "       country      city                 industry speciality  \n",
       "count   109615    109615                   109615     109615  \n",
       "unique      73      3673                      143       9867  \n",
       "top         US  New York  Staffing and Recruiting    unknown  \n",
       "freq    105174      6956                    17174      22128  \n",
       "mean       NaN       NaN                      NaN        NaN  \n",
       "min        NaN       NaN                      NaN        NaN  \n",
       "25%        NaN       NaN                      NaN        NaN  \n",
       "50%        NaN       NaN                      NaN        NaN  \n",
       "75%        NaN       NaN                      NaN        NaN  \n",
       "max        NaN       NaN                      NaN        NaN  "
      ]
     },
     "execution_count": 29,
     "metadata": {},
     "output_type": "execute_result"
    }
   ],
   "source": [
    "df.describe(exclude='number')"
   ]
  },
  {
   "cell_type": "markdown",
   "id": "de58af63-e62f-455c-969c-daeb3968a8f5",
   "metadata": {},
   "source": [
    "# Exploratory Data Analysis"
   ]
  },
  {
   "cell_type": "markdown",
   "id": "cfed0418-add7-4879-a7cb-499cdbbcaf78",
   "metadata": {},
   "source": [
    "#### Job opportunities across each country"
   ]
  },
  {
   "cell_type": "code",
   "execution_count": 30,
   "id": "1a086f1b-151f-4954-ba47-cb4b25406d31",
   "metadata": {},
   "outputs": [],
   "source": [
    "job_per_country = df.groupby('country')['job_id'].count().reset_index()\n",
    "job_per_country_sorted = job_per_country.sort_values(by='job_id', ascending=False).reset_index(drop=True)\n",
    "job_per_country_sorted.columns= ['country', 'jobs']\n",
    "# job_per_country_sorted"
   ]
  },
  {
   "cell_type": "code",
   "execution_count": 31,
   "id": "7fa3a081-ac7a-4236-a221-9bdb754fafae",
   "metadata": {},
   "outputs": [],
   "source": [
    "from geopy.geocoders import Nominatim\n",
    "\n",
    "geolocator = Nominatim(user_agent='my_geocoder')\n",
    "\n",
    "def get_geocode(country):\n",
    "    try:\n",
    "        location=geolocator.geocode(country)\n",
    "        if location:\n",
    "            return location.latitude, location.longitude\n",
    "        else:\n",
    "            return None, None\n",
    "    except:\n",
    "        return None,None"
   ]
  },
  {
   "cell_type": "code",
   "execution_count": null,
   "id": "f5774e4d-40b5-42ef-8a97-7f2736651e78",
   "metadata": {},
   "outputs": [],
   "source": [
    "job_per_country_sorted['latitude'], job_per_country_sorted['longitude'] = zip(*job_per_country_sorted['country'].apply(get_geocode))\n",
    "# job_per_country_sorted.head()"
   ]
  },
  {
   "cell_type": "code",
   "execution_count": null,
   "id": "3100c0b2-5bf0-481a-b187-63e551639dee",
   "metadata": {},
   "outputs": [],
   "source": [
    "job_per_country_sorted.head()"
   ]
  },
  {
   "cell_type": "code",
   "execution_count": null,
   "id": "e1a22204-3107-423d-bdb5-003ecaf974e3",
   "metadata": {},
   "outputs": [],
   "source": [
    "import folium\n",
    "world_map= folium.Map(location=[20,2], zoom_start=3)\n",
    "\n",
    "for i, row in job_per_country_sorted.iterrows():\n",
    "    if row['jobs']>500:\n",
    "        marker_color = 'orange'\n",
    "    elif row['jobs']>100:\n",
    "        marker_color= 'pink'\n",
    "    else:\n",
    "        marker_color='blue'\n",
    "    \n",
    "    label = f\"{row['jobs']} jobs\"\n",
    "    marker = folium.Marker(\n",
    "        location=[row['latitude'], row['longitude']],\n",
    "        icon= folium.Icon(color=marker_color),\n",
    "        popup = label,\n",
    "        tooltip=row['country'],\n",
    "    )\n",
    "    marker.add_to(world_map)\n",
    "\n",
    "world_map"
   ]
  },
  {
   "cell_type": "markdown",
   "id": "5cbc65b1-4862-4277-ae36-5fd6fff78409",
   "metadata": {},
   "source": [
    "#### Total jobs offered by each company"
   ]
  },
  {
   "cell_type": "code",
   "execution_count": null,
   "id": "411f8a9d-572f-4386-a079-7305b0b1446d",
   "metadata": {},
   "outputs": [],
   "source": [
    "job_per_company = df.groupby('company_name')['job_id'].count().reset_index()\n",
    "job_per_company.columns = ['company','jobs']\n",
    "job_per_company_sorted = job_per_company.sort_values(by='jobs', ascending=False)"
   ]
  },
  {
   "cell_type": "code",
   "execution_count": null,
   "id": "cde5720a-91da-4345-8b10-70fadf69fbf5",
   "metadata": {},
   "outputs": [],
   "source": [
    "plt.figure(figsize=(4,4))\n",
    "plt.hist(job_per_company['jobs'], bins=10)\n",
    "plt.title(\"Jobs offered per company\")\n",
    "plt.xlabel(\"Number of jobs\")\n",
    "plt.ylabel('Frequency')\n",
    "plt.show()"
   ]
  },
  {
   "cell_type": "markdown",
   "id": "bb20b66f-04b3-428b-9246-f88ad3b66f32",
   "metadata": {},
   "source": [
    "A lot of companies offered 1-150 jobs. Very Few companies offered more than 200 jobs. Viewing this distribution in more detail."
   ]
  },
  {
   "cell_type": "code",
   "execution_count": null,
   "id": "ef25e070-9aa0-4337-83e9-e7b70f0a0f08",
   "metadata": {},
   "outputs": [],
   "source": [
    "plt.figure(figsize=(4,4))\n",
    "bins = np.linspace(0, 150, 15)\n",
    "sns.distplot(job_per_company['jobs'], bins=bins, kde=False)\n",
    "\n",
    "plt.title(\"Jobs offered per company\")\n",
    "plt.xlabel(\"Number of jobs\")\n",
    "plt.ylabel('Frequency')\n",
    "plt.grid(True)\n",
    "plt.show()"
   ]
  },
  {
   "cell_type": "markdown",
   "id": "f9456c3d-6969-404e-a282-e7a5f2aacc75",
   "metadata": {},
   "source": [
    "#### Top 5 hiring companies"
   ]
  },
  {
   "cell_type": "code",
   "execution_count": null,
   "id": "13959c18-d1f6-42a7-b98e-4faf2c4a7d2e",
   "metadata": {},
   "outputs": [],
   "source": [
    "plt.figure(figsize=(5,4))\n",
    "x = job_per_company_sorted['company'][0:5]\n",
    "y = job_per_company_sorted['jobs'][0:5]\n",
    "colors = plt.cm.Blues(np.linspace(0.7,0.2, len(x)))\n",
    "# colors = plt.cm.Blues(np.linspace(1, 0, len(x)))\n",
    "plt.barh(x,y, color=colors)\n",
    "plt.title(\"Top 5 hiring Companies\")\n",
    "plt.xlabel('Jobs offered')\n",
    "plt.show()"
   ]
  },
  {
   "cell_type": "markdown",
   "id": "4f0ff5c1-b98e-4aa3-9ee3-618ee4d4c0f7",
   "metadata": {},
   "source": [
    "#### Jobs distrubution per month"
   ]
  },
  {
   "cell_type": "code",
   "execution_count": null,
   "id": "7265d3c9-a8db-4c52-9238-3205e3980d74",
   "metadata": {},
   "outputs": [],
   "source": [
    "year_posted = df['original_listed_time'].dt.year\n",
    "year_posted.value_counts()"
   ]
  },
  {
   "cell_type": "code",
   "execution_count": null,
   "id": "f7459db2-42ae-4920-97bc-2d2c5d3f3133",
   "metadata": {},
   "outputs": [],
   "source": [
    "# there is only one date from year 2023\n",
    "index_2023 = df[df['original_listed_time'].dt.year==2023].index\n",
    "df.drop(index = index_2023, inplace=True)"
   ]
  },
  {
   "cell_type": "code",
   "execution_count": null,
   "id": "ef30354f-9898-42a1-b368-ee7228d133b6",
   "metadata": {},
   "outputs": [],
   "source": [
    "month_posted = df['original_listed_time'].dt.month\n",
    "job_per_month = month_posted.value_counts()"
   ]
  },
  {
   "cell_type": "code",
   "execution_count": null,
   "id": "302c90c2-2d09-4396-9918-04c4e428d952",
   "metadata": {},
   "outputs": [],
   "source": [
    "job_per_month[0:2].plot.pie(labels=['April','March'], explode=[1,0.1], shadow=True, colors=['pink','orange'])\n",
    "plt.title(\"Jobs posted per Month\")\n",
    "plt.show()"
   ]
  },
  {
   "cell_type": "markdown",
   "id": "5318ab90-f3cb-40fb-9594-5c6355c74e65",
   "metadata": {},
   "source": [
    "#### Salary trend in industries"
   ]
  },
  {
   "cell_type": "code",
   "execution_count": null,
   "id": "41c5eed4-6df9-406f-bcb5-1a46b98d4614",
   "metadata": {},
   "outputs": [],
   "source": [
    "salary_per_industry = df.groupby('industry')[['min_salary','max_salary','med_salary']].sum().reset_index()\n",
    "minsalary_per_industry_sorted = salary_per_industry.sort_values(by='min_salary', ascending =False)\n",
    "maxsalary_per_industry_sorted = salary_per_industry.sort_values(by='max_salary', ascending =False)\n",
    "# medsalary_per_industry_sorted = salary_per_industry.sort_values(by='med_salary', ascending =False)"
   ]
  },
  {
   "cell_type": "code",
   "execution_count": null,
   "id": "234cec8d-6727-4027-adde-b755b3ee07f2",
   "metadata": {},
   "outputs": [],
   "source": [
    "y1= minsalary_per_industry_sorted['industry'][0:10]\n",
    "y2= maxsalary_per_industry_sorted['industry'][0:10]\n",
    "# y3= medsalary_per_industry_sorted['industry'][0:10]\n",
    "x1 = minsalary_per_industry_sorted['min_salary'][0:10]\n",
    "x2 = maxsalary_per_industry_sorted['max_salary'][0:10]\n",
    "# x3 = medsalary_per_industry_sorted['med_salary'][0:10]\n",
    "\n",
    "plt.figure(figsize=(6, 10))\n",
    "plt.subplot(2,1,1)\n",
    "plt.plot(x1, y1)\n",
    "plt.title(\"Minimum salary industrial trend\")\n",
    "plt.xlabel(\"Minimum Salary\")\n",
    "plt.ylabel(\"Industry\")\n",
    "\n",
    "plt.subplot(2, 1, 2)\n",
    "plt.plot(x2, y2, color='green')\n",
    "plt.title(\"Maximum Salaries industrial trend\")\n",
    "plt.xlabel(\"Maximum Salary\")\n",
    "plt.ylabel(\"Industry\")\n",
    "\n",
    "# plt.subplot(3, 1, 3)\n",
    "# plt.plot(x3, y3, color='green')\n",
    "# plt.title(\"Median Salaries industrial trend\")\n",
    "# plt.xlabel(\"Median Salary\")\n",
    "# plt.ylabel(\"Industry\")\n",
    "\n",
    "plt.subplots_adjust(hspace=0.3)\n",
    "plt.show()"
   ]
  },
  {
   "cell_type": "markdown",
   "id": "ef6e65e5-6d28-4cf9-b770-0e4dae6acab3",
   "metadata": {},
   "source": [
    "#### Job demand per job type"
   ]
  },
  {
   "cell_type": "code",
   "execution_count": null,
   "id": "6edd6c41-b75e-40f6-a00d-92202f44ff34",
   "metadata": {},
   "outputs": [],
   "source": [
    "job_title = df.groupby('title')['job_id'].count().reset_index()\n",
    "job_title_sorted = job_title.sort_values(by='job_id', ascending =False)"
   ]
  },
  {
   "cell_type": "code",
   "execution_count": null,
   "id": "b65fa557-d641-4383-a48e-80ac5e0205d8",
   "metadata": {},
   "outputs": [],
   "source": [
    "plt.figure(figsize=(5,4))\n",
    "x = job_title_sorted['title'][0:10]\n",
    "y = job_title_sorted['job_id'][0:10]\n",
    "plt.plot(y,x, marker='o', alpha=0.5, color='brown')\n",
    "plt.title(\"Job demand\")\n",
    "plt.xlabel('total jobs posted')\n",
    "plt.show()"
   ]
  },
  {
   "cell_type": "markdown",
   "id": "13912f9d-3aba-4adf-a776-e76efca00dd1",
   "metadata": {},
   "source": [
    "#### Is Remote work allowed?"
   ]
  },
  {
   "cell_type": "code",
   "execution_count": null,
   "id": "e0448b49-4b59-471e-b4e3-20056cfdd060",
   "metadata": {},
   "outputs": [],
   "source": [
    "remote_work= df['remote_allowed'].value_counts()\n",
    "plt.pie(remote_work, labels=['Remote not allowed', 'Remote'], autopct='%0.1f%%', colors=['darkgray','limegreen'], shadow=True)\n",
    "plt.title(\"Percentage of jobs allowing remote work\")\n",
    "plt.show()"
   ]
  },
  {
   "cell_type": "markdown",
   "id": "b685ff8a-9854-4c34-a91c-5f8868a0e2aa",
   "metadata": {},
   "source": [
    "#### Which job type is comfortable with remote work?"
   ]
  },
  {
   "cell_type": "code",
   "execution_count": null,
   "id": "24f36ca0-a051-43d9-8b57-07b43b54c36d",
   "metadata": {},
   "outputs": [],
   "source": [
    "remote_job_type = df[df['remote_allowed']==1].groupby('formatted_work_type')['remote_allowed'].count().reset_index()\n",
    "remote_job_type.columns=['work_type', 'remote']\n",
    "# remote_job_type"
   ]
  },
  {
   "cell_type": "code",
   "execution_count": null,
   "id": "ac13fb87-9332-43d2-b270-0615ce2a8c03",
   "metadata": {},
   "outputs": [],
   "source": [
    "job_count_by_remote = df.groupby(['formatted_work_type','remote_allowed']).size().reset_index(name='job_count')\n",
    "# job_count_by_remote\n",
    "remote_job_table = job_count_by_remote.pivot(index='formatted_work_type', columns='remote_allowed')\n",
    "# remote_job_table"
   ]
  },
  {
   "cell_type": "code",
   "execution_count": null,
   "id": "5830862d-4fc1-45f4-9961-fd7dca5c935b",
   "metadata": {},
   "outputs": [],
   "source": [
    "fig, axes = plt.subplots(1,2,figsize=(14,6))\n",
    "# plt.subplot(1,2,1)\n",
    "remote_job_table.plot(kind='bar', stacked=True, color=['cornflowerblue', 'cadetblue'], ax=axes[0])\n",
    "axes[0].set_xlabel('Job type')\n",
    "axes[0].set_ylabel('remote vs non-remote count')\n",
    "axes[0].set_title('Job type vs remote and non-remote count')\n",
    "\n",
    "# plt.subplot(1,2,2)\n",
    "remote_job_type.plot(x='work_type', y='remote', color='cadetblue', marker='*' , ax= axes[1])\n",
    "axes[1].set_xlabel('job type')\n",
    "axes[1].set_ylabel('remote job count')\n",
    "axes[1].set_title('Job type vs remote count')\n",
    "plt.tight_layout()\n",
    "plt.show()"
   ]
  },
  {
   "cell_type": "markdown",
   "id": "ca4312e5-d404-4bb5-9a45-1230356cb223",
   "metadata": {},
   "source": [
    "#### Remote job location trend"
   ]
  },
  {
   "cell_type": "code",
   "execution_count": null,
   "id": "46e80d11-68f7-43b3-8f9b-5be275e0e1d0",
   "metadata": {},
   "outputs": [],
   "source": [
    "remote_per_city = df[df['remote_allowed']==1].groupby('city')['remote_allowed'].count().reset_index()\n",
    "# remote_per_city\n",
    "remote_per_city_sorted = remote_per_city.sort_values(by='remote_allowed', ascending=False)"
   ]
  },
  {
   "cell_type": "code",
   "execution_count": null,
   "id": "3d39add6-6c6e-47dc-a9f6-d61a4fcadc64",
   "metadata": {},
   "outputs": [],
   "source": [
    "# plt.figure(figsize=(100,20))\n",
    "remote_per_city_sorted[0:30].plot(kind='bar',x= 'city',y='remote_allowed' )\n",
    "plt.xlabel(\"city\")\n",
    "plt.ylabel(\"count of remote job\")\n",
    "plt.title(\"Top 30 cities allowing remote work\")\n",
    "plt.show()"
   ]
  },
  {
   "cell_type": "markdown",
   "id": "0bf8b4c0-bc5f-467f-8412-a3e35ab735b0",
   "metadata": {},
   "source": [
    "#### What are some popular industries?"
   ]
  },
  {
   "cell_type": "code",
   "execution_count": null,
   "id": "0dcc0959-a71a-4748-80cb-dd354e6dea4c",
   "metadata": {},
   "outputs": [],
   "source": [
    "popular_industry = df.groupby('industry').size().reset_index(name='frequency').sort_values(by='frequency', ascending=False).reset_index(drop=True)\n",
    "x = popular_industry['industry'][0:5]\n",
    "y = popular_industry['frequency'][0:5]\n",
    "colormap= plt.cm.Purples(np.linspace(0.8,0.2,len(x)))\n",
    "plt.barh(x,y, color=colormap)\n",
    "plt.xlabel('job count')\n",
    "plt.ylabel('industry')\n",
    "plt.title('Top 5 Popular Industries')\n",
    "plt.xticks(rotation=45)\n",
    "# plt.grid(True)\n",
    "plt.show()"
   ]
  },
  {
   "cell_type": "markdown",
   "id": "71498d2c-c566-4af9-8276-0f6b5dc40f16",
   "metadata": {},
   "source": [
    "#### Skills required in popular industries"
   ]
  },
  {
   "cell_type": "code",
   "execution_count": null,
   "id": "0b451110-c97b-45fe-a99d-1f18202084ea",
   "metadata": {},
   "outputs": [],
   "source": [
    "skill_demand = df.groupby(['industry','skill_name']).size().reset_index(name='skill_count')"
   ]
  },
  {
   "cell_type": "code",
   "execution_count": null,
   "id": "78b387dd-92b4-41fc-8598-2e991208059b",
   "metadata": {},
   "outputs": [],
   "source": [
    "# skills in industry 1\n",
    "skill1 = skill_demand[skill_demand['industry']=='Staffing and Recruiting'].sort_values(by='skill_count', ascending=False).head(10).pivot(columns='industry',index='skill_name')\n",
    "\n",
    "#industry 2\n",
    "skill2 = skill_demand[skill_demand['industry']=='Hospitals and Health Care'].sort_values(by='skill_count', ascending=False).head(10).pivot(columns='industry',index='skill_name')\n",
    "\n",
    "#industry 3\n",
    "skill3 = skill_demand[skill_demand['industry']=='IT Services and IT Consulting'].sort_values(by='skill_count', ascending=False).head(10).pivot(columns='industry',index='skill_name')\n",
    "\n",
    "#industry 4\n",
    "skill4 = skill_demand[skill_demand['industry']=='Retail'].sort_values(by='skill_count', ascending=False).head(10).pivot(columns='industry',index='skill_name')\n"
   ]
  },
  {
   "cell_type": "code",
   "execution_count": null,
   "id": "46ee897e-6fb7-43ed-93fe-fc5e814ee783",
   "metadata": {},
   "outputs": [],
   "source": [
    "fig, axes =plt.subplots(2,2, figsize=(12,12))\n",
    "\n",
    "skill1.plot(color='palevioletred', ax= axes[0,0], legend=False)\n",
    "axes[0, 0].set_title(\"In demand skills of Staffing and Recruiting Industry\")\n",
    "\n",
    "skill2.plot(color='forestgreen', ax= axes[0,1],legend=False)\n",
    "axes[0, 1].set_title(\"In demand skills of Hospitals and Health Care Industry\")\n",
    "\n",
    "skill3.plot(color='steelblue', ax= axes[1,0],legend=False)\n",
    "axes[1, 0].set_title(\"In demand skills of IT Services and IT Consulting Industry\")\n",
    "\n",
    "skill4.plot(color='chocolate', ax= axes[1,1],legend=False)\n",
    "axes[1, 1].set_title(\"In demand skills of Retail Industry\")\n",
    "\n",
    "for ax in axes.flat:\n",
    "    for label in ax.get_xticklabels():\n",
    "        label.set_rotation(60)\n",
    "    \n",
    "\n",
    "plt.tight_layout()\n",
    "plt.show()"
   ]
  },
  {
   "cell_type": "markdown",
   "id": "59315d3d-705b-4a87-98d9-fed58d3eef20",
   "metadata": {},
   "source": [
    "#### Companies recieving highest applications"
   ]
  },
  {
   "cell_type": "code",
   "execution_count": null,
   "id": "89bf0db9-a529-4f89-8ac7-e557532715f6",
   "metadata": {},
   "outputs": [],
   "source": [
    "company_choice = df.groupby('company_name')[['views', 'applies']].count().sort_values(by='views',ascending=False).reset_index()\n",
    "company_choice"
   ]
  },
  {
   "cell_type": "markdown",
   "id": "8f2c86f7-3f4e-4f59-b429-ac5e65de2e8f",
   "metadata": {},
   "source": [
    "Almost all views are getting converted into applications"
   ]
  },
  {
   "cell_type": "code",
   "execution_count": null,
   "id": "25b921be-b781-41e1-bfea-da5e4680f30e",
   "metadata": {},
   "outputs": [],
   "source": [
    "x=company_choice['company_name'][0:10]\n",
    "y= company_choice['applies'][0:10]\n",
    "colors = plt.cm.Greens(np.linspace(0.7,0.4,len(x)))\n",
    "plt.barh(x,y, color=colors)\n",
    "plt.title(\"Company vs applications\")\n",
    "plt.ylabel(\"company name\")\n",
    "plt.xlabel(\"applications recieved\")\n",
    "plt.grid(True)\n",
    "plt.show()"
   ]
  },
  {
   "cell_type": "markdown",
   "id": "880f5de5-d552-4fd7-8d59-551f8fe25100",
   "metadata": {},
   "source": [
    "#### Application trend over regions"
   ]
  },
  {
   "cell_type": "code",
   "execution_count": null,
   "id": "a9bcfa71-9083-4344-b49b-95f00b912ab9",
   "metadata": {},
   "outputs": [],
   "source": [
    "df.columns"
   ]
  },
  {
   "cell_type": "code",
   "execution_count": null,
   "id": "a1b6955c-98c4-4c0b-8fba-4c1551351b3d",
   "metadata": {},
   "outputs": [],
   "source": [
    "city_choice=df.groupby('city')['applies'].count().reset_index().sort_values(by='applies', ascending=False).reset_index(drop=True)\n",
    "city_choice[0:10].plot(x='city',y='applies',kind='bar',legend=False, color='slateblue')\n",
    "plt.title(\"city vs applications\")\n",
    "plt.ylabel(\"total applications\")\n",
    "plt.show()"
   ]
  },
  {
   "cell_type": "markdown",
   "id": "af5802f1-c806-47f2-b73e-fae1adc4dda1",
   "metadata": {},
   "source": [
    "#### Benifits provided by companies"
   ]
  },
  {
   "cell_type": "code",
   "execution_count": null,
   "id": "02d0936e-6138-4d3d-9a42-91fe5f0ddba6",
   "metadata": {},
   "outputs": [],
   "source": [
    "benifit_df = df[df['benifit']!='401(k)']\n",
    "ben = benifit_df['benifit'].value_counts()\n",
    "b=['no benefit','Medical insurance','Vision insurance','Disability insurance','Commuter benefits']\n",
    "plt.pie(ben[0:5], labels=b, explode=[0.1,0.1,0.1,0.1,0.1])\n",
    "plt.title(\"Benifits provided\")\n",
    "plt.show()"
   ]
  },
  {
   "cell_type": "code",
   "execution_count": null,
   "id": "1b35b467-717e-4d38-a650-63d29d8da775",
   "metadata": {},
   "outputs": [],
   "source": []
  }
 ],
 "metadata": {
  "kernelspec": {
   "display_name": "Python 3 (ipykernel)",
   "language": "python",
   "name": "python3"
  },
  "language_info": {
   "codemirror_mode": {
    "name": "ipython",
    "version": 3
   },
   "file_extension": ".py",
   "mimetype": "text/x-python",
   "name": "python",
   "nbconvert_exporter": "python",
   "pygments_lexer": "ipython3",
   "version": "3.12.4"
  }
 },
 "nbformat": 4,
 "nbformat_minor": 5
}
